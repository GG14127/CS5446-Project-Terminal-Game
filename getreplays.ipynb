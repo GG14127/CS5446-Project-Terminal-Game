{
 "cells": [
  {
   "cell_type": "code",
   "execution_count": 1,
   "metadata": {},
   "outputs": [
    {
     "data": {
      "text/plain": [
       "623"
      ]
     },
     "execution_count": 1,
     "metadata": {},
     "output_type": "execute_result"
    }
   ],
   "source": [
    "import json\n",
    "with open(\"E:\\SEM1\\CS5446\\project\\matches\\matches_308543.json\", 'r') as file:\n",
    "    data = json.load(file)\n",
    "matches_308543 = [data[\"data\"][\"matches\"][i][\"id\"] for i in range(len(data[\"data\"][\"matches\"]))]\n",
    "len(matches_308543)"
   ]
  },
  {
   "cell_type": "code",
   "execution_count": null,
   "metadata": {},
   "outputs": [],
   "source": [
    "# Get url and log in to the website\n",
    "\n",
    "from selenium import webdriver\n",
    "from selenium.webdriver.common.by import By\n",
    "from selenium.webdriver.support.ui import WebDriverWait\n",
    "from selenium.webdriver.support import expected_conditions as EC\n",
    "from selenium.webdriver.chrome.options import Options\n",
    "import time\n",
    "from tqdm import tqdm\n",
    "\n",
    "chrome_options = Options()\n",
    "chrome_options.add_experimental_option(\"prefs\", {\n",
    "    \"download.default_directory\": \"E:\\\\SEM1\\\\CS5446\\\\project\\\\replays\",  # Download path\n",
    "    \"download.prompt_for_download\": False,\n",
    "    \"safebrowsing.enabled\": True\n",
    "})\n",
    "\n",
    "driver = webdriver.Chrome(options=chrome_options)\n",
    "\n",
    "url = \"https://terminal.c1games.com/\"\n",
    "driver.get(url)\n",
    "# log in by hand\n"
   ]
  },
  {
   "cell_type": "code",
   "execution_count": null,
   "metadata": {},
   "outputs": [
    {
     "name": "stderr",
     "output_type": "stream",
     "text": [
      "100%|██████████| 323/323 [30:28<00:00,  5.66s/it]\n"
     ]
    }
   ],
   "source": [
    "# Download matches replays and rename files\n",
    "\n",
    "import os\n",
    "\n",
    "base_url = 'https://terminal.c1games.com/watchLive/'\n",
    "prefix = \"10-2-2024\"\n",
    "directory_path = \"E:\\\\SEM1\\\\CS5446\\\\project\\\\replays\"\n",
    "for i in tqdm(matches_308543[300:]):\n",
    "    replay_id = i\n",
    "    url = base_url + str(replay_id)\n",
    "    driver.get(url)\n",
    "    time.sleep(1)\n",
    "    access_button = WebDriverWait(driver, 10).until(\n",
    "            EC.element_to_be_clickable((By.CSS_SELECTOR, 'div#access-features button.s3-access'))\n",
    "        )\n",
    "    access_button.click()\n",
    "    time.sleep(1)\n",
    "    # 等待“下载回放”按钮加载并点击\n",
    "    download_button = WebDriverWait(driver, 10).until(\n",
    "        EC.element_to_be_clickable((By.XPATH, \"//button[contains(text(), 'Download Replay')]\"))\n",
    "    )\n",
    "    download_button.click()\n",
    "    time.sleep(1)\n",
    "    matching_files = [\n",
    "            file for file in os.listdir(directory_path)\n",
    "            if os.path.isfile(os.path.join(directory_path, file)) and file.startswith(prefix)\n",
    "        ]\n",
    "    if len(matching_files) == 1:\n",
    "        file_path = os.path.join(directory_path, matching_files[0])\n",
    "        new_file_path = os.path.join(directory_path, str(replay_id) + '.replay')\n",
    "        os.rename(file_path, new_file_path)\n",
    "    else:\n",
    "        print(\"File_not_match\", replay_id)\n",
    "        break\n"
   ]
  },
  {
   "cell_type": "code",
   "execution_count": null,
   "metadata": {},
   "outputs": [
    {
     "name": "stdout",
     "output_type": "stream",
     "text": [
      "File: 10-2-2024-18-39-1.replay - Last Modified: 2024-11-05 18:39:02 - New name: 14129429.replay\n",
      "File: 10-2-2024-18-39-7.replay - Last Modified: 2024-11-05 18:39:08 - New name: 14111203.replay\n",
      "File: 10-2-2024-18-39-20.replay - Last Modified: 2024-11-05 18:39:20 - New name: 14085024.replay\n",
      "File: 10-2-2024-18-39-26.replay - Last Modified: 2024-11-05 18:39:26 - New name: 14083009.replay\n",
      "File: 10-2-2024-18-39-32.replay - Last Modified: 2024-11-05 18:39:33 - New name: 14076156.replay\n",
      "File: 10-2-2024-18-39-41.replay - Last Modified: 2024-11-05 18:39:41 - New name: 14068580.replay\n",
      "File: 10-2-2024-18-39-48.replay - Last Modified: 2024-11-05 18:39:48 - New name: 14062874.replay\n",
      "File: 10-2-2024-18-39-53.replay - Last Modified: 2024-11-05 18:39:54 - New name: 14052639.replay\n",
      "File: 10-2-2024-18-40-1.replay - Last Modified: 2024-11-05 18:40:01 - New name: 14048126.replay\n",
      "File: 10-2-2024-18-40-7.replay - Last Modified: 2024-11-05 18:40:07 - New name: 14042757.replay\n",
      "File: 10-2-2024-18-40-13.replay - Last Modified: 2024-11-05 18:40:13 - New name: 14034783.replay\n",
      "File: 10-2-2024-18-40-19.replay - Last Modified: 2024-11-05 18:40:19 - New name: 14025705.replay\n",
      "File: 10-2-2024-18-40-26.replay - Last Modified: 2024-11-05 18:40:26 - New name: 14017578.replay\n",
      "File: 10-2-2024-18-40-32.replay - Last Modified: 2024-11-05 18:40:32 - New name: 14005588.replay\n",
      "File: 10-2-2024-18-40-37.replay - Last Modified: 2024-11-05 18:40:37 - New name: 13996458.replay\n",
      "File: 10-2-2024-18-40-46.replay - Last Modified: 2024-11-05 18:40:46 - New name: 13993643.replay\n",
      "File: 10-2-2024-18-40-54.replay - Last Modified: 2024-11-05 18:40:55 - New name: 13992175.replay\n",
      "File: 10-2-2024-18-41-5.replay - Last Modified: 2024-11-05 18:41:05 - New name: 13987644.replay\n",
      "File: 10-2-2024-18-41-11.replay - Last Modified: 2024-11-05 18:41:11 - New name: 13983073.replay\n",
      "File: 10-2-2024-18-41-19.replay - Last Modified: 2024-11-05 18:41:19 - New name: 13979117.replay\n",
      "File: 10-2-2024-18-41-24.replay - Last Modified: 2024-11-05 18:41:24 - New name: 13969793.replay\n",
      "File: 10-2-2024-18-41-29.replay - Last Modified: 2024-11-05 18:41:29 - New name: 13959547.replay\n",
      "File: 10-2-2024-18-41-43.replay - Last Modified: 2024-11-05 18:41:43 - New name: 13947046.replay\n",
      "File: 10-2-2024-18-41-51.replay - Last Modified: 2024-11-05 18:41:52 - New name: 13907779.replay\n",
      "File: 10-2-2024-18-42-3.replay - Last Modified: 2024-11-05 18:42:03 - New name: 13892807.replay\n",
      "File: 10-2-2024-18-42-16.replay - Last Modified: 2024-11-05 18:42:16 - New name: 13881116.replay\n",
      "File: 10-2-2024-18-42-25.replay - Last Modified: 2024-11-05 18:42:25 - New name: 13870655.replay\n",
      "File: 10-2-2024-18-42-34.replay - Last Modified: 2024-11-05 18:42:34 - New name: 13861095.replay\n",
      "File: 10-2-2024-18-42-43.replay - Last Modified: 2024-11-05 18:42:43 - New name: 13845339.replay\n",
      "File: 10-2-2024-18-42-49.replay - Last Modified: 2024-11-05 18:42:50 - New name: 13828669.replay\n",
      "File: 10-2-2024-18-42-56.replay - Last Modified: 2024-11-05 18:42:57 - New name: 13815403.replay\n",
      "File: 10-2-2024-18-43-2.replay - Last Modified: 2024-11-05 18:43:02 - New name: 13800703.replay\n",
      "File: 10-2-2024-18-43-11.replay - Last Modified: 2024-11-05 18:43:11 - New name: 13788410.replay\n",
      "File: 10-2-2024-18-43-21.replay - Last Modified: 2024-11-05 18:43:21 - New name: 13775108.replay\n",
      "File: 10-2-2024-18-43-31.replay - Last Modified: 2024-11-05 18:43:32 - New name: 13761818.replay\n",
      "File: 10-2-2024-18-43-41.replay - Last Modified: 2024-11-05 18:43:41 - New name: 13748076.replay\n",
      "File: 10-2-2024-18-43-47.replay - Last Modified: 2024-11-05 18:43:47 - New name: 13743517.replay\n",
      "File: 10-2-2024-18-43-52.replay - Last Modified: 2024-11-05 18:43:53 - New name: 13737353.replay\n",
      "File: 10-2-2024-18-43-59.replay - Last Modified: 2024-11-05 18:44:00 - New name: 13737305.replay\n",
      "File: 10-2-2024-18-44-6.replay - Last Modified: 2024-11-05 18:44:06 - New name: 13737260.replay\n",
      "File: 10-2-2024-18-44-11.replay - Last Modified: 2024-11-05 18:44:12 - New name: 13737190.replay\n",
      "File: 10-2-2024-18-44-20.replay - Last Modified: 2024-11-05 18:44:20 - New name: 13737187.replay\n",
      "File: 10-2-2024-18-44-27.replay - Last Modified: 2024-11-05 18:44:27 - New name: 13737130.replay\n",
      "File: 10-2-2024-18-44-34.replay - Last Modified: 2024-11-05 18:44:34 - New name: 13737051.replay\n",
      "File: 10-2-2024-18-44-40.replay - Last Modified: 2024-11-05 18:44:40 - New name: 13735028.replay\n",
      "File: 10-2-2024-18-44-45.replay - Last Modified: 2024-11-05 18:44:45 - New name: 13731833.replay\n",
      "File: 10-2-2024-18-44-53.replay - Last Modified: 2024-11-05 18:44:53 - New name: 13728112.replay\n",
      "File: 10-2-2024-18-45-7.replay - Last Modified: 2024-11-05 18:45:08 - New name: 13724194.replay\n",
      "File: 10-2-2024-18-45-11.replay - Last Modified: 2024-11-05 18:45:11 - New name: 13719323.replay\n",
      "File: 10-2-2024-18-45-16.replay - Last Modified: 2024-11-05 18:45:16 - New name: 13711673.replay\n"
     ]
    }
   ],
   "source": [
    "# rename files \n",
    "import os\n",
    "from datetime import datetime\n",
    "path = \"E:\\\\SEM1\\\\CS5446\\\\project\\\\replays\"\n",
    "files_with_mod_time = [\n",
    "        (file, os.path.getmtime(os.path.join(path, file)))\n",
    "        for file in os.listdir(path)\n",
    "        if os.path.isfile(os.path.join(path, file))\n",
    "    ]\n",
    "# files_with_mod_time\n",
    "files_with_mod_time.sort(key=lambda x: x[1])\n",
    "\n",
    "for i, (file, mod_time) in enumerate(files_with_mod_time):\n",
    "    if i >= 50:\n",
    "        break\n",
    "    file_path = os.path.join(path, file)\n",
    "    new_file_path = os.path.join(path, str(matches_308543[i+200]) + '.replay')\n",
    "    readable_time = datetime.fromtimestamp(mod_time).strftime('%Y-%m-%d %H:%M:%S')\n",
    "    print(f\"File: {file} - Last Modified: {readable_time} - New name: {str(matches_308543[i]) + '.replay'}\")\n",
    "    os.rename(file_path, new_file_path)"
   ]
  },
  {
   "cell_type": "code",
   "execution_count": null,
   "metadata": {},
   "outputs": [],
   "source": [
    "# Check algo name\n",
    "name_to_check = \"RULE-ALGO_V3\"\n",
    "url = \"https://terminal.c1games.com/watchLive/14133239\"\n",
    "name_to_check = \"BUUZARD_V_____\"\n",
    "base_url = 'https://terminal.c1games.com/watchLive/'\n",
    "player1_url = []\n",
    "player2_url = []\n",
    "for i in range(14133239, 14130000, -1):\n",
    "    url = base_url + str(i)\n",
    "    driver.get(url)\n",
    "    # Check Element\n",
    "    # container = driver.find_element(By.ID, \"Player_2-s3\")\n",
    "    # target_span = container.find_element(By.XPATH, \".//div[contains(@class, '_player')]/span\")\n",
    "    # target_span_2 = driver.find_element(By.CSS_SELECTOR, \"div#Player_2-s3 ._player span\")\n",
    "    target_div_1 = driver.find_element(By.CSS_SELECTOR, \"div#Player_1-s3 ._player h1\")\n",
    "    target_div_2 = driver.find_element(By.CSS_SELECTOR, \"div#Player_2-s3 ._player h1\")\n",
    "    # Check name\n",
    "    print(target_div_1.text, target_div_2.text)\n",
    "    if name_to_check.lower() in target_div_1.text.lower():\n",
    "        print(f\"name in player 1, replay = {i}\")\n",
    "        player1_url.append(i)\n",
    "    if name_to_check.lower() in target_div_2.text.lower():\n",
    "        print(f\"name in player 2, replay = {i}\")\n",
    "        player2_url.append(i)"
   ]
  },
  {
   "cell_type": "code",
   "execution_count": 35,
   "metadata": {},
   "outputs": [],
   "source": [
    "driver.quit()"
   ]
  }
 ],
 "metadata": {
  "kernelspec": {
   "display_name": "CS5446",
   "language": "python",
   "name": "python3"
  },
  "language_info": {
   "codemirror_mode": {
    "name": "ipython",
    "version": 3
   },
   "file_extension": ".py",
   "mimetype": "text/x-python",
   "name": "python",
   "nbconvert_exporter": "python",
   "pygments_lexer": "ipython3",
   "version": "3.9.19"
  }
 },
 "nbformat": 4,
 "nbformat_minor": 2
}
