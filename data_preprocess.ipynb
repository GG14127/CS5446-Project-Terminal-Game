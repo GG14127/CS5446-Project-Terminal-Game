{
 "cells": [
  {
   "cell_type": "code",
   "execution_count": 1,
   "metadata": {},
   "outputs": [],
   "source": [
    "import json\n",
    "import numpy as np\n",
    "from tqdm import tqdm\n",
    "import os\n",
    "import torch\n",
    "import math"
   ]
  },
  {
   "cell_type": "code",
   "execution_count": 2,
   "metadata": {},
   "outputs": [],
   "source": [
    "def read_replay_data(file):\n",
    "    data = []\n",
    "    with open(file, 'r') as file:\n",
    "        for line in file:\n",
    "            data.append(json.loads(line.strip()))\n",
    "    return data"
   ]
  },
  {
   "cell_type": "code",
   "execution_count": 3,
   "metadata": {},
   "outputs": [],
   "source": [
    "file = \"E:\\\\SEM1\\\\CS5446\\\\project\\\\matches\\\\matches_308543\\\\13599986.replay\"\n",
    "data = read_replay_data(file)"
   ]
  },
  {
   "cell_type": "code",
   "execution_count": 4,
   "metadata": {},
   "outputs": [],
   "source": [
    "def loc_to_state_pos(x, y):\n",
    "    pos = 0\n",
    "    if y >= 14:\n",
    "        pos += 213\n",
    "        y = 27 - y\n",
    "        x = 27 - x\n",
    "    if y > 0:\n",
    "        pos += y * (y + 1)\n",
    "    pos += x - 13 + y\n",
    "    return pos\n",
    "\n",
    "def action_pos_to_loc(pos):\n",
    "    y = math.isqrt(pos+14) - 1\n",
    "    x = pos - y**2 - 2*y + 13\n",
    "    while x < 13 - y:\n",
    "        y -= 1\n",
    "        x = x = pos - y**2 - 2*y + 13\n",
    "    return x, y\n"
   ]
  },
  {
   "cell_type": "code",
   "execution_count": 5,
   "metadata": {},
   "outputs": [
    {
     "data": {
      "text/plain": [
       "(131, 109, 89, 71, 55)"
      ]
     },
     "execution_count": 5,
     "metadata": {},
     "output_type": "execute_result"
    }
   ],
   "source": [
    "loc_to_state_pos(24, 10), loc_to_state_pos(23, 9), loc_to_state_pos(22, 8), loc_to_state_pos(21, 7), loc_to_state_pos(20, 6)"
   ]
  },
  {
   "cell_type": "code",
   "execution_count": 6,
   "metadata": {},
   "outputs": [],
   "source": [
    "for i in range(210):\n",
    "    x, y = action_pos_to_loc(i)\n",
    "    if loc_to_state_pos(x, y) != i:\n",
    "        print(i, x, y)"
   ]
  },
  {
   "cell_type": "code",
   "execution_count": 7,
   "metadata": {},
   "outputs": [],
   "source": [
    "def get_state(turn_frame, player):\n",
    "    \"\"\"\n",
    "    from turn_frame get state, including stationary units\n",
    "    \"\"\"\n",
    "    state = np.zeros(427)\n",
    "    state[-1] = turn_frame[\"turnInfo\"][1]\n",
    "    state[210:213] = turn_frame[\"p1Stats\"][:3]\n",
    "    state[423:426] = turn_frame[\"p2Stats\"][:3]\n",
    "    for unit_type_i, units_list in enumerate(turn_frame[\"p1Units\"]):\n",
    "        if 3 <= unit_type_i <= 6:\n",
    "            continue \n",
    "        for j, unit_info in enumerate(units_list):\n",
    "            loc_x, loc_y = unit_info[0], unit_info[1]\n",
    "            state_pos = loc_to_state_pos(loc_x, loc_y)\n",
    "            if unit_type_i < 3:\n",
    "                state[state_pos] = unit_type_i + 1\n",
    "            else:\n",
    "                state[state_pos] += 3\n",
    "    for unit_type_i, units_list in enumerate(turn_frame[\"p2Units\"]):\n",
    "        if 3 <= unit_type_i <= 6:\n",
    "            continue\n",
    "        for j, unit_info in enumerate(units_list):\n",
    "            loc_x, loc_y = unit_info[0], unit_info[1]\n",
    "            state_pos = loc_to_state_pos(loc_x, loc_y)\n",
    "            if unit_type_i < 3:\n",
    "                state[state_pos] = unit_type_i + 1\n",
    "            else:\n",
    "                state[state_pos] += 3\n",
    "    if player != 1:\n",
    "        state[:213], state[213:426] = state[213:426], state[:213]\n",
    "    return state\n",
    "\n",
    "\n",
    "def get_action(turn_frame, action_frame, player):\n",
    "    \"\"\"\n",
    "    From turn_frame and the first action_frame get action for player\n",
    "    \"\"\"\n",
    "    action = np.zeros((8, 210))\n",
    "    key = \"p\" + str(player) + \"Units\"\n",
    "    for unit_type_i in range(len(turn_frame[key])):\n",
    "        old_unit_list = turn_frame[key][unit_type_i]\n",
    "        new_unit_list = action_frame[key][unit_type_i]\n",
    "        old_unit_set_i = set([unit[3] for unit in old_unit_list])\n",
    "        for j, unit_info in enumerate(new_unit_list):\n",
    "            loc_x, loc_y, identifier = unit_info[0], unit_info[1], unit_info[3]\n",
    "            if identifier not in old_unit_set_i:\n",
    "                if loc_y >= 14:\n",
    "                    loc_y = 27 - loc_y\n",
    "                    loc_x = 27 - loc_x\n",
    "                pos = loc_to_state_pos(loc_x, loc_y)\n",
    "                action[unit_type_i][pos] = 1\n",
    "    return action\n"
   ]
  },
  {
   "cell_type": "code",
   "execution_count": 8,
   "metadata": {},
   "outputs": [],
   "source": [
    "def parse_replay_data(data, player):\n",
    "    states = []\n",
    "    actions = []\n",
    "    frame_i = 1\n",
    "    turn_frame = None\n",
    "    action_frame = None\n",
    "    while frame_i < len(data):\n",
    "        turnInfo = data[frame_i][\"turnInfo\"]\n",
    "        if turnInfo[0] == 0:\n",
    "            turn_frame = data[frame_i]\n",
    "            action_frame = data[frame_i+1]\n",
    "            states.append(get_state(turn_frame, player))\n",
    "            actions.append(get_action(turn_frame, action_frame, player))\n",
    "        frame_i += 1\n",
    "    return states, actions"
   ]
  },
  {
   "cell_type": "code",
   "execution_count": 9,
   "metadata": {},
   "outputs": [
    {
     "data": {
      "text/plain": [
       "(39, 427)"
      ]
     },
     "execution_count": 9,
     "metadata": {},
     "output_type": "execute_result"
    }
   ],
   "source": [
    "states, actions = parse_replay_data(data, 1)\n",
    "np.array(states).shape"
   ]
  },
  {
   "cell_type": "code",
   "execution_count": 84,
   "metadata": {},
   "outputs": [
    {
     "name": "stderr",
     "output_type": "stream",
     "text": [
      "100%|██████████| 623/623 [01:44<00:00,  5.96it/s]\n"
     ]
    }
   ],
   "source": [
    "dir_path = \"E:\\\\SEM1\\\\CS5446\\\\project\\\\matches\\\\matches_308543\"\n",
    "total_states = None\n",
    "for file in tqdm(os.listdir(dir_path)):\n",
    "    file_path = os.path.join(dir_path, file)\n",
    "    data = read_replay_data(file_path)\n",
    "    player = data[-1][\"endStats\"][\"winner\"]\n",
    "    states, actions = parse_replay_data(data, player)\n",
    "    if total_states is None:\n",
    "        total_states = np.array(states)\n",
    "        total_actions = np.array(actions)\n",
    "    else:\n",
    "        total_states = np.concatenate([total_states, states], axis=0)\n",
    "        total_actions = np.concatenate([total_actions, actions], axis=0)        "
   ]
  },
  {
   "cell_type": "code",
   "execution_count": 85,
   "metadata": {},
   "outputs": [
    {
     "data": {
      "text/plain": [
       "((14208, 427), (14208, 8, 210))"
      ]
     },
     "execution_count": 85,
     "metadata": {},
     "output_type": "execute_result"
    }
   ],
   "source": [
    "total_states.shape, total_actions.shape"
   ]
  },
  {
   "cell_type": "code",
   "execution_count": 86,
   "metadata": {},
   "outputs": [],
   "source": [
    "np.save(\"E:\\\\SEM1\\\\CS5446\\\\project\\\\matches\\\\total_states_308543.npy\", total_states)\n",
    "np.save(\"E:\\\\SEM1\\\\CS5446\\\\project\\\\matches\\\\total_actions_308543.npy\", total_actions)"
   ]
  },
  {
   "cell_type": "code",
   "execution_count": 87,
   "metadata": {},
   "outputs": [],
   "source": [
    "load_states = np.load(\"E:\\\\SEM1\\\\CS5446\\\\project\\\\matches\\\\total_states_308543.npy\")"
   ]
  }
 ],
 "metadata": {
  "kernelspec": {
   "display_name": "d2l-zh",
   "language": "python",
   "name": "python3"
  },
  "language_info": {
   "codemirror_mode": {
    "name": "ipython",
    "version": 3
   },
   "file_extension": ".py",
   "mimetype": "text/x-python",
   "name": "python",
   "nbconvert_exporter": "python",
   "pygments_lexer": "ipython3",
   "version": "3.8.19"
  }
 },
 "nbformat": 4,
 "nbformat_minor": 2
}
